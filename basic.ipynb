{
 "cells": [
  {
   "cell_type": "markdown",
   "metadata": {},
   "source": [
    "# Object Oriented Programming 기본 문법"
   ]
  },
  {
   "cell_type": "markdown",
   "metadata": {},
   "source": [
    "## 함수"
   ]
  },
  {
   "cell_type": "code",
   "execution_count": 1,
   "metadata": {
    "collapsed": true
   },
   "outputs": [],
   "source": [
    "# python 함수 정의 (정말 쉽고 간편하다)\n",
    "def add(a, b):\n",
    "    return a + b"
   ]
  },
  {
   "cell_type": "code",
   "execution_count": 2,
   "metadata": {},
   "outputs": [
    {
     "data": {
      "text/plain": [
       "30"
      ]
     },
     "execution_count": 2,
     "metadata": {},
     "output_type": "execute_result"
    }
   ],
   "source": [
    "add(10, 20)"
   ]
  },
  {
   "cell_type": "markdown",
   "metadata": {},
   "source": [
    "## 클래스"
   ]
  },
  {
   "cell_type": "code",
   "execution_count": 7,
   "metadata": {},
   "outputs": [
    {
     "name": "stdout",
     "output_type": "stream",
     "text": [
      "속도는 200km/h 입니다.\n"
     ]
    }
   ],
   "source": [
    "# class 선언 (첫 시작은 대문자)\n",
    "# class는 일종의 설계도 (아직 제품이 생산된 게 X)\n",
    "class Car:\n",
    "    # 생성자 : 처음 인스턴스 변수가 생길 때 변수값 초기화\n",
    "    def __init__(self, name, peopleNum, speed):\n",
    "        self.name = name\n",
    "        self.peopleNum = peopleNum\n",
    "        self.speed = speed\n",
    "        \n",
    "    def printSpeed(self):\n",
    "        print \"속도는 {}km/h 입니다.\".format(self.speed)\n",
    "\n",
    "# Object : An Instance of a class\n",
    "car1 = Car(\"risingCar\", 5, 200)\n",
    "car1.printSpeed()"
   ]
  },
  {
   "cell_type": "code",
   "execution_count": 8,
   "metadata": {},
   "outputs": [
    {
     "name": "stdout",
     "output_type": "stream",
     "text": [
      "속도는 400km/h 입니다.\n",
      "전기차입니다.\n",
      "연료는 electricity입니다.\n"
     ]
    }
   ],
   "source": [
    "# Python의 상속(Inheritance)은 ()로 표시\n",
    "class Tesla(Car):\n",
    "    \n",
    "    # 다형성(Polymorphism)\n",
    "    # 생성자의 overloading (새로운 parameter 추가)\n",
    "    def __init__(self, name, peopleNum, speed, energy):\n",
    "        self.name = name\n",
    "        self.peopleNum = peopleNum\n",
    "        self.speed = speed\n",
    "        self.energy = energy\n",
    "    \n",
    "    # 메소드 overriding (부모 클래스에 있는 메소드를 자식 클래스에서 재정의)\n",
    "    def printSpeed(self):\n",
    "        print \"속도는 {}km/h 입니다.\".format(self.speed)\n",
    "        print \"전기차입니다.\"\n",
    "        \n",
    "    def printEnergy(self):\n",
    "        print \"연료는 {}입니다.\".format(self.energy)\n",
    "\n",
    "tesla1 = Tesla(\"electricity Car\", 10, 400, \"electricity\")\n",
    "tesla1.printSpeed()\n",
    "tesla1.printEnergy()"
   ]
  }
 ],
 "metadata": {
  "kernelspec": {
   "display_name": "Python 2",
   "language": "python",
   "name": "python2"
  },
  "language_info": {
   "codemirror_mode": {
    "name": "ipython",
    "version": 2
   },
   "file_extension": ".py",
   "mimetype": "text/x-python",
   "name": "python",
   "nbconvert_exporter": "python",
   "pygments_lexer": "ipython2",
   "version": "2.7.14"
  }
 },
 "nbformat": 4,
 "nbformat_minor": 2
}
