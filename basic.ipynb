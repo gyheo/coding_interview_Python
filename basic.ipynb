{
 "cells": [
  {
   "cell_type": "markdown",
   "metadata": {},
   "source": [
    "# 기본 문법"
   ]
  },
  {
   "cell_type": "markdown",
   "metadata": {},
   "source": [
    "## 함수"
   ]
  },
  {
   "cell_type": "code",
   "execution_count": 1,
   "metadata": {
    "collapsed": true
   },
   "outputs": [],
   "source": [
    "# python 함수 정의 (정말 쉽고 간편하다)\n",
    "def add(a, b):\n",
    "    return a + b"
   ]
  },
  {
   "cell_type": "code",
   "execution_count": 2,
   "metadata": {},
   "outputs": [
    {
     "data": {
      "text/plain": [
       "30"
      ]
     },
     "execution_count": 2,
     "metadata": {},
     "output_type": "execute_result"
    }
   ],
   "source": [
    "add(10, 20)"
   ]
  },
  {
   "cell_type": "markdown",
   "metadata": {},
   "source": [
    "## 클래스"
   ]
  },
  {
   "cell_type": "code",
   "execution_count": 13,
   "metadata": {},
   "outputs": [
    {
     "name": "stdout",
     "output_type": "stream",
     "text": [
      "속도는 200km/h 입니다.\n"
     ]
    }
   ],
   "source": [
    "# class 선언 (첫 시작은 대문자)\n",
    "# class는 일종의 설계도 (아직 제품이 생산된 게 X)\n",
    "class Car:\n",
    "    # 생성자 : 처음 인스턴스 변수가 생길 때 변수값 초기화\n",
    "    def __init__(self, name, peopleNum, speed):\n",
    "        self.name = name\n",
    "        self.peopleNum = peopleNum\n",
    "        self.speed = speed\n",
    "        \n",
    "    def printSpeed(self):\n",
    "        print \"속도는 {}km/h 입니다.\".format(self.speed)\n",
    "        \n",
    "car1 = Car(\"risingCar\", 5, 200)\n",
    "car1.printSpeed()"
   ]
  }
 ],
 "metadata": {
  "kernelspec": {
   "display_name": "Python 2",
   "language": "python",
   "name": "python2"
  },
  "language_info": {
   "codemirror_mode": {
    "name": "ipython",
    "version": 2
   },
   "file_extension": ".py",
   "mimetype": "text/x-python",
   "name": "python",
   "nbconvert_exporter": "python",
   "pygments_lexer": "ipython2",
   "version": "2.7.14"
  }
 },
 "nbformat": 4,
 "nbformat_minor": 2
}
